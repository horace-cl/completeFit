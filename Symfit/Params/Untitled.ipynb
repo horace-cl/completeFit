{
 "cells": [
  {
   "cell_type": "code",
   "execution_count": 1,
   "metadata": {},
   "outputs": [],
   "source": [
    "import json"
   ]
  },
  {
   "cell_type": "code",
   "execution_count": 2,
   "metadata": {},
   "outputs": [],
   "source": [
    "signal_json = '/home/horacio/Documents/hcl/Experiments_Fitting/MC_Signal/results/CB-2Gauss_Exponential_NonExtended_MEETING.json'"
   ]
  },
  {
   "cell_type": "code",
   "execution_count": 3,
   "metadata": {},
   "outputs": [],
   "source": [
    "with open('Bin.json') as file:\n",
    "    template = json.load(file)"
   ]
  },
  {
   "cell_type": "code",
   "execution_count": 6,
   "metadata": {},
   "outputs": [
    {
     "data": {
      "text/plain": [
       "{'Signal': {'yield': 1356,\n",
       "  'mass': {'2Gaussian+CrystalBall': {'muCB': 5.27,\n",
       "    'alphaCB': 5.2,\n",
       "    'sigmaCB': 0.04,\n",
       "    'nCB': 3,\n",
       "    'muGauss': 5.27,\n",
       "    'sigmaGauss1': 0.1,\n",
       "    'sigmaGauss2': 0.03,\n",
       "    'fracCB': 0.05,\n",
       "    'fracGauss1': 0.25,\n",
       "    'fracGauss2': 0.25}},\n",
       "  'angle': {'AFB': 0, 'FH': 0.2, 'coefsEff': [0.1, -0.2, 0.3, -0.4]}},\n",
       " 'Background': {'yield': 1000,\n",
       "  'mass': {'Exponential+Gauss': {'mu': 5,\n",
       "    'sigma': 0.5,\n",
       "    'lambda_': -2,\n",
       "    'fraction_exp': 0.3}},\n",
       "  'angle': {'2SideBands': {'Left': {'coefs': [1, 0.1, 0.1],\n",
       "     'fraction_Cheby': 0.5,\n",
       "     'mu': 0.75,\n",
       "     'sigma': 0.1},\n",
       "    'Right': {'coefs': [1, -0.2, -0.2],\n",
       "     'fraction_Cheby': 0.5,\n",
       "     'mu': 0.75,\n",
       "     'sigma': 0.1},\n",
       "    'fraction_Left': 0.5}}},\n",
       " 'limits': [5, 5.7]}"
      ]
     },
     "execution_count": 6,
     "metadata": {},
     "output_type": "execute_result"
    }
   ],
   "source": [
    "template"
   ]
  },
  {
   "cell_type": "code",
   "execution_count": 4,
   "metadata": {},
   "outputs": [],
   "source": [
    "with open(signal_json) as file:\n",
    "    signal_mass = json.load(file)\n",
    "    "
   ]
  },
  {
   "cell_type": "code",
   "execution_count": 56,
   "metadata": {},
   "outputs": [],
   "source": [
    "signal_params_map = {\n",
    "    'muCB' : 'mu_CB',\n",
    "    'alphaCB': 'alpha_CB' ,\n",
    "    'sigmaCB': 'sigma_CB',\n",
    "    'nCB' : 'n_CB',\n",
    "    'muGauss' : 'mu_Gauss',\n",
    "    'sigmaGauss1' : 'sigma1_Gauss',\n",
    "    'sigmaGauss2' : 'sigma2_Gauss',\n",
    "    'fracCB' : 'signal_CrystalBall_Frac',\n",
    "    'fracGauss1': 'signal_Gaussian1_Frac',\n",
    "    'fracGauss2': 'signal_Gaussian2_Frac'\n",
    "}"
   ]
  },
  {
   "cell_type": "code",
   "execution_count": 57,
   "metadata": {},
   "outputs": [],
   "source": [
    "for bin_ in signal_mass:\n",
    "    bin_N = int(bin_.replace('Bin', ''))\n",
    "    \n",
    "    with open(f'Bin{bin_N}.json') as file:\n",
    "        binParams = json.load(file) \n",
    "        \n",
    "    for p, t in signal_params_map.items():\n",
    "        binParams['Signal']['mass']['2Gaussian+CrystalBall'][p]=signal_mass[bin_]['result'][t]['value']\n",
    "\n",
    "    with open(f'Bin{bin_N}.json', 'w') as file:\n",
    "        json.dump(binParams, file)\n",
    "            \n"
   ]
  },
  {
   "cell_type": "code",
   "execution_count": 52,
   "metadata": {},
   "outputs": [],
   "source": [
    "path_backgrounds = '/home/horacio/Documents/hcl/Experiments_Fitting/MassModels/jsons/params.json'\n",
    "with open(path_backgrounds) as file:\n",
    "    background_mass = json.load(file)"
   ]
  },
  {
   "cell_type": "code",
   "execution_count": 61,
   "metadata": {},
   "outputs": [
    {
     "name": "stdout",
     "output_type": "stream",
     "text": [
      "0\n",
      "538.0\n",
      "538.0\n",
      "1\n",
      "1225.0\n",
      "1225.0\n",
      "2\n",
      "2581.0\n",
      "2581.0\n",
      "4\n",
      "2089.0\n",
      "2089.0\n",
      "6\n",
      "1533.0\n",
      "1533.0\n",
      "7\n",
      "1721.0\n",
      "1721.0\n",
      "8\n",
      "1513.0\n",
      "1513.0\n",
      "9\n",
      "2662.0\n",
      "2662.0\n",
      "10\n",
      "11461.0\n",
      "11461.0\n"
     ]
    }
   ],
   "source": [
    "for bin_ in background_mass:\n",
    "    print(bin_)\n",
    "    \n",
    "    with open(f'Bin{bin_}.json') as file:\n",
    "        binParams = json.load(file) \n",
    "    \n",
    "    print(binParams['Signal']['yield'])\n",
    "    binParams['Signal']['yield']=background_mass[bin_]['signalYield']\n",
    "    binParams['Background']['yield']=background_mass[bin_]['backYield']\n",
    "    binParams['Background']['mass']['Exponential+Gauss']['mu'] = background_mass[bin_]['mu_Gauss_Back']\n",
    "    binParams['Background']['mass']['Exponential+Gauss']['sigma'] = background_mass[bin_]['sigma_Gauss_Back'] \n",
    "    binParams['Background']['mass']['Exponential+Gauss']['lambda_'] = background_mass[bin_]['lambda_background'] \n",
    "    binParams['Background']['mass']['Exponential+Gauss']['fraction_exp'] = background_mass[bin_]['background_Exponential_Frac'] \n",
    "    binParams['Signal']['mass']['2Gaussian+CrystalBall']['muGauss'] = background_mass[bin_]['mu_signal']\n",
    "    print(binParams['Signal']['yield'])\n",
    "\n",
    "    with open(f'Bin{bin_}.json', 'w') as file:\n",
    "        json.dump(binParams, file, indent=4)"
   ]
  },
  {
   "cell_type": "code",
   "execution_count": 62,
   "metadata": {},
   "outputs": [],
   "source": [
    "path_SB = '/home/horacio/Documents/hcl/Experiments_Fitting/AngularModels/params/results7.json'\n",
    "with open(path_SB) as file:\n",
    "    back_angular = json.load(file)"
   ]
  },
  {
   "cell_type": "code",
   "execution_count": 65,
   "metadata": {},
   "outputs": [],
   "source": [
    "from pprint import pprint as pprint"
   ]
  },
  {
   "cell_type": "code",
   "execution_count": 66,
   "metadata": {},
   "outputs": [
    {
     "name": "stdout",
     "output_type": "stream",
     "text": [
      "{'Left': {'coefs': [1,\n",
      "                    0.08718022074688103,\n",
      "                    -0.2498755711090439,\n",
      "                    0.0071827404755375746,\n",
      "                    -0.10486673877605102],\n",
      "          'fraction_Cheby': 1,\n",
      "          'mu': 0,\n",
      "          'sigma': 0.1},\n",
      " 'Right': {'coefs': [1,\n",
      "                     0.023969153045831915,\n",
      "                     -0.04201786376824712,\n",
      "                     0.020019073036346313,\n",
      "                     -0.2960833332014041,\n",
      "                     0.04666487365885574],\n",
      "           'fraction_Cheby': 1,\n",
      "           'mu': 0,\n",
      "           'sigma': 0.1}}\n"
     ]
    }
   ],
   "source": [
    "pprint(back_angular['0'])"
   ]
  },
  {
   "cell_type": "code",
   "execution_count": 69,
   "metadata": {},
   "outputs": [
    {
     "name": "stdout",
     "output_type": "stream",
     "text": [
      "0\n",
      "538.0\n",
      "1\n",
      "1225.0\n",
      "2\n",
      "2581.0\n",
      "4\n",
      "2089.0\n",
      "6\n",
      "1533.0\n",
      "7\n",
      "1721.0\n",
      "8\n",
      "1513.0\n",
      "9\n",
      "2662.0\n",
      "10\n",
      "11461.0\n"
     ]
    }
   ],
   "source": [
    "for bin_ in back_angular:\n",
    "    print(bin_)\n",
    "    \n",
    "    with open(f'Bin{bin_}.json') as file:\n",
    "        binParams = json.load(file) \n",
    "    \n",
    "    print(binParams['Signal']['yield'])\n",
    "    binParams['Background']['angle']['2SideBands']=back_angular[bin_]\n",
    "\n",
    "    with open(f'Bin{bin_}.json', 'w') as file:\n",
    "        json.dump(binParams, file, indent=4)\n",
    "    \n"
   ]
  },
  {
   "cell_type": "code",
   "execution_count": null,
   "metadata": {},
   "outputs": [],
   "source": []
  }
 ],
 "metadata": {
  "kernelspec": {
   "display_name": "pycms",
   "language": "python",
   "name": "pycms"
  },
  "language_info": {
   "codemirror_mode": {
    "name": "ipython",
    "version": 3
   },
   "file_extension": ".py",
   "mimetype": "text/x-python",
   "name": "python",
   "nbconvert_exporter": "python",
   "pygments_lexer": "ipython3",
   "version": "3.6.8"
  }
 },
 "nbformat": 4,
 "nbformat_minor": 4
}
